{
 "cells": [
  {
   "cell_type": "code",
   "execution_count": null,
   "id": "14f83a6a",
   "metadata": {},
   "outputs": [],
   "source": [
    "import pandas as pd\n",
    "from sklearn.feature_extraction.text import TfidfVectorizer\n",
    "from sklearn.linear_model import RidgeClassifier\n",
    "from sklearn.metrics import f1_score"
   ]
  },
  {
   "cell_type": "code",
   "execution_count": null,
   "id": "dd95db77",
   "metadata": {},
   "outputs": [],
   "source": [
    "# , nrows=15000\n",
    "# train_df = pd.read_csv('../data/train_set.csv', sep='\\t')\n",
    "# tfidf = TfidfVectorizer(ngram_range=(1, 3), max_features=10000)\n",
    "# train_test = tfidf.fit_transform(train_df['text'])\n",
    "\n",
    "# clf = RidgeClassifier()\n",
    "# clf.fit(train_test[:10000], train_df['label'].values[:10000])\n",
    "\n",
    "# val_pred = clf.predict(train_test[10000:])\n",
    "# print(f1_score(train_df['label'].values[10000:], val_pred, average='macro'))"
   ]
  },
  {
   "cell_type": "code",
   "execution_count": null,
   "id": "234b4e48",
   "metadata": {},
   "outputs": [],
   "source": [
    "train_df = pd.read_csv('../data/train_set.csv', sep='\\t')"
   ]
  }
 ],
 "metadata": {
  "kernelspec": {
   "display_name": "Python 3",
   "language": "python",
   "name": "python3"
  },
  "language_info": {
   "codemirror_mode": {
    "name": "ipython",
    "version": 3
   },
   "file_extension": ".py",
   "mimetype": "text/x-python",
   "name": "python",
   "nbconvert_exporter": "python",
   "pygments_lexer": "ipython3",
   "version": "3.8.8"
  }
 },
 "nbformat": 4,
 "nbformat_minor": 5
}
