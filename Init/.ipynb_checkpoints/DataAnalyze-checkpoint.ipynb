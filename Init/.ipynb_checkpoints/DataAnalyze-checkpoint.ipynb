{
 "cells": [
  {
   "cell_type": "code",
   "execution_count": 14,
   "id": "d61ccef6",
   "metadata": {},
   "outputs": [],
   "source": [
    "import pandas as pd\n",
    "train_df = pd.read_csv('../data/train_set.csv', sep='\\t')"
   ]
  },
  {
   "cell_type": "code",
   "execution_count": 15,
   "id": "437e0f51",
   "metadata": {
    "scrolled": true
   },
   "outputs": [
    {
     "data": {
      "text/html": [
       "<div>\n",
       "<style scoped>\n",
       "    .dataframe tbody tr th:only-of-type {\n",
       "        vertical-align: middle;\n",
       "    }\n",
       "\n",
       "    .dataframe tbody tr th {\n",
       "        vertical-align: top;\n",
       "    }\n",
       "\n",
       "    .dataframe thead th {\n",
       "        text-align: right;\n",
       "    }\n",
       "</style>\n",
       "<table border=\"1\" class=\"dataframe\">\n",
       "  <thead>\n",
       "    <tr style=\"text-align: right;\">\n",
       "      <th></th>\n",
       "      <th>label</th>\n",
       "      <th>text</th>\n",
       "    </tr>\n",
       "  </thead>\n",
       "  <tbody>\n",
       "    <tr>\n",
       "      <th>0</th>\n",
       "      <td>2</td>\n",
       "      <td>2967 6758 339 2021 1854 3731 4109 3792 4149 15...</td>\n",
       "    </tr>\n",
       "    <tr>\n",
       "      <th>1</th>\n",
       "      <td>11</td>\n",
       "      <td>4464 486 6352 5619 2465 4802 1452 3137 5778 54...</td>\n",
       "    </tr>\n",
       "    <tr>\n",
       "      <th>2</th>\n",
       "      <td>3</td>\n",
       "      <td>7346 4068 5074 3747 5681 6093 1777 2226 7354 6...</td>\n",
       "    </tr>\n",
       "    <tr>\n",
       "      <th>3</th>\n",
       "      <td>2</td>\n",
       "      <td>7159 948 4866 2109 5520 2490 211 3956 5520 549...</td>\n",
       "    </tr>\n",
       "    <tr>\n",
       "      <th>4</th>\n",
       "      <td>3</td>\n",
       "      <td>3646 3055 3055 2490 4659 6065 3370 5814 2465 5...</td>\n",
       "    </tr>\n",
       "    <tr>\n",
       "      <th>...</th>\n",
       "      <td>...</td>\n",
       "      <td>...</td>\n",
       "    </tr>\n",
       "    <tr>\n",
       "      <th>199995</th>\n",
       "      <td>2</td>\n",
       "      <td>307 4894 7539 4853 5330 648 6038 4409 3764 603...</td>\n",
       "    </tr>\n",
       "    <tr>\n",
       "      <th>199996</th>\n",
       "      <td>2</td>\n",
       "      <td>3792 2983 355 1070 4464 5050 6298 3782 3130 68...</td>\n",
       "    </tr>\n",
       "    <tr>\n",
       "      <th>199997</th>\n",
       "      <td>11</td>\n",
       "      <td>6811 1580 7539 1252 1899 5139 1386 3870 4124 1...</td>\n",
       "    </tr>\n",
       "    <tr>\n",
       "      <th>199998</th>\n",
       "      <td>2</td>\n",
       "      <td>6405 3203 6644 983 794 1913 1678 5736 1397 191...</td>\n",
       "    </tr>\n",
       "    <tr>\n",
       "      <th>199999</th>\n",
       "      <td>3</td>\n",
       "      <td>4350 3878 3268 1699 6909 5505 2376 2465 6088 2...</td>\n",
       "    </tr>\n",
       "  </tbody>\n",
       "</table>\n",
       "<p>200000 rows × 2 columns</p>\n",
       "</div>"
      ],
      "text/plain": [
       "        label                                               text\n",
       "0           2  2967 6758 339 2021 1854 3731 4109 3792 4149 15...\n",
       "1          11  4464 486 6352 5619 2465 4802 1452 3137 5778 54...\n",
       "2           3  7346 4068 5074 3747 5681 6093 1777 2226 7354 6...\n",
       "3           2  7159 948 4866 2109 5520 2490 211 3956 5520 549...\n",
       "4           3  3646 3055 3055 2490 4659 6065 3370 5814 2465 5...\n",
       "...       ...                                                ...\n",
       "199995      2  307 4894 7539 4853 5330 648 6038 4409 3764 603...\n",
       "199996      2  3792 2983 355 1070 4464 5050 6298 3782 3130 68...\n",
       "199997     11  6811 1580 7539 1252 1899 5139 1386 3870 4124 1...\n",
       "199998      2  6405 3203 6644 983 794 1913 1678 5736 1397 191...\n",
       "199999      3  4350 3878 3268 1699 6909 5505 2376 2465 6088 2...\n",
       "\n",
       "[200000 rows x 2 columns]"
      ]
     },
     "execution_count": 15,
     "metadata": {},
     "output_type": "execute_result"
    }
   ],
   "source": [
    "train_df"
   ]
  },
  {
   "cell_type": "code",
   "execution_count": 16,
   "id": "b594f8dc",
   "metadata": {},
   "outputs": [
    {
     "data": {
      "text/plain": [
       "0         1057\n",
       "1          486\n",
       "2          764\n",
       "3         1570\n",
       "4          307\n",
       "          ... \n",
       "199995     868\n",
       "199996    1142\n",
       "199997    1180\n",
       "199998     179\n",
       "199999    2098\n",
       "Name: text, Length: 200000, dtype: int64"
      ]
     },
     "execution_count": 16,
     "metadata": {},
     "output_type": "execute_result"
    }
   ],
   "source": [
    " train_df['text'].apply(lambda x: len(x.split(' ')))"
   ]
  },
  {
   "cell_type": "code",
   "execution_count": 17,
   "id": "80588395",
   "metadata": {
    "scrolled": false
   },
   "outputs": [
    {
     "name": "stdout",
     "output_type": "stream",
     "text": [
      "Populating the interactive namespace from numpy and matplotlib\n",
      "        label                                               text  text_len\n",
      "0           2  2967 6758 339 2021 1854 3731 4109 3792 4149 15...      1057\n",
      "1          11  4464 486 6352 5619 2465 4802 1452 3137 5778 54...       486\n",
      "2           3  7346 4068 5074 3747 5681 6093 1777 2226 7354 6...       764\n",
      "3           2  7159 948 4866 2109 5520 2490 211 3956 5520 549...      1570\n",
      "4           3  3646 3055 3055 2490 4659 6065 3370 5814 2465 5...       307\n",
      "...       ...                                                ...       ...\n",
      "199995      2  307 4894 7539 4853 5330 648 6038 4409 3764 603...       868\n",
      "199996      2  3792 2983 355 1070 4464 5050 6298 3782 3130 68...      1142\n",
      "199997     11  6811 1580 7539 1252 1899 5139 1386 3870 4124 1...      1180\n",
      "199998      2  6405 3203 6644 983 794 1913 1678 5736 1397 191...       179\n",
      "199999      3  4350 3878 3268 1699 6909 5505 2376 2465 6088 2...      2098\n",
      "\n",
      "[200000 rows x 3 columns]\n",
      "count    200000.000000\n",
      "mean        907.207110\n",
      "std         996.029036\n",
      "min           2.000000\n",
      "25%         374.000000\n",
      "50%         676.000000\n",
      "75%        1131.000000\n",
      "max       57921.000000\n",
      "Name: text_len, dtype: float64\n"
     ]
    }
   ],
   "source": [
    "train_df['text_len'] = train_df['text'].apply(lambda x: len(x.split(' ')))\n",
    "print(train_df)\n",
    "# 把长度信息保存在 'text_len' 的字段中。\n",
    "\n",
    "print(train_df['text_len'].describe())\n",
    "# describe() : 内置函数，用来生成描述性统计信息。"
   ]
  },
  {
   "cell_type": "code",
   "execution_count": 18,
   "id": "bd3d347e",
   "metadata": {},
   "outputs": [
    {
     "data": {
      "text/plain": [
       "Text(0.5, 1.0, 'Histogram of char count')"
      ]
     },
     "execution_count": 18,
     "metadata": {},
     "output_type": "execute_result"
    },
    {
     "data": {
      "image/png": "[encoded data removed]",
      "text/plain": [
       "<Figure size 432x288 with 1 Axes>"
      ]
     },
     "metadata": {
      "needs_background": "light"
     },
     "output_type": "display_data"
    }
   ],
   "source": [
    "%pylab inline  \n",
    "#最少的引入代码进行画图\n",
    "\n",
    "_ = plt.hist(train_df['text_len'], bins=200)\n",
    "# 我们上面没有定义plt，那plt哪里来的呢？（%pylab inline）\n",
    "\n",
    "# bins:这个参数指定bin(箱子)的个数,也就是总共要画多少条条状图, 把bins设置得太大，会卡电脑\n",
    "\n",
    "plt.xlabel('Text char count')\n",
    "plt.title(\"Histogram of char count\")\n",
    "# x轴坐标和图表名称"
   ]
  },
  {
   "cell_type": "code",
   "execution_count": 19,
   "id": "e3f7c7a1",
   "metadata": {
    "scrolled": true
   },
   "outputs": [
    {
     "data": {
      "text/plain": [
       "Text(0.5, 0, 'category')"
      ]
     },
     "execution_count": 19,
     "metadata": {},
     "output_type": "execute_result"
    },
    {
     "data": {
      "image/png": "[encoded data removed]",
      "text/plain": [
       "<Figure size 432x288 with 1 Axes>"
      ]
     },
     "metadata": {
      "needs_background": "light"
     },
     "output_type": "display_data"
    }
   ],
   "source": [
    "train_df['label'].value_counts().plot(kind='bar')\n",
    "# 在这里，用了和文本长度可视化不一样的方法进行可视化；\n",
    "# 在这里的plot()是DataFrames的一个内置函数，实际上pandas也是调用了matplotlib的API，只不过帮你集成了\n",
    "# value_counts()也是内置函数，对label的数据进行统计\n",
    "\n",
    "plt.title('News class count')\n",
    "plt.xlabel(\"category\")"
   ]
  },
  {
   "cell_type": "code",
   "execution_count": 20,
   "id": "501ea7c8",
   "metadata": {},
   "outputs": [
    {
     "name": "stdout",
     "output_type": "stream",
     "text": [
      "6869\n",
      "('3750', 7482224)\n",
      "('3133', 1)\n"
     ]
    }
   ],
   "source": [
    "from collections import Counter\n",
    "all_lines = ' '.join(list(train_df['text']))\n",
    "# 在这里，先把所有的句子都拼接起来，得到一个大文本。\n",
    "\n",
    "word_count = Counter(all_lines.split(\" \"))\n",
    "# 对上面拼接好的大文本进行分割，然后使用Counter()函数进行统计，获得{字符:字频数}列表\n",
    "\n",
    "word_count = sorted(word_count.items(), key=lambda d:d[1], reverse = True)\n",
    "# 对{字符:字频数}列表 按 值 进行排序，也就是按字频数进行排序。"
   ]
  },
  {
   "cell_type": "code",
   "execution_count": 21,
   "id": "16908960",
   "metadata": {},
   "outputs": [
    {
     "name": "stdout",
     "output_type": "stream",
     "text": [
      "6869\n",
      "('3750', 7482224)\n",
      "('648', 4924890)\n",
      "('900', 3262544)\n",
      "('3133', 1)\n"
     ]
    }
   ],
   "source": [
    "print(len(word_count))  # 输出字符种类数\n",
    "# 输出最高频率的字符\n",
    "for i in range(3):\n",
    "    print(word_count[i])    \n",
    "print(word_count[-1])   # 输出最低频率的字符"
   ]
  },
  {
   "cell_type": "code",
   "execution_count": 23,
   "id": "8fb95060",
   "metadata": {
    "scrolled": false
   },
   "outputs": [
    {
     "data": {
      "text/plain": [
       "count    200000.000000\n",
       "mean         78.094350\n",
       "std          84.052108\n",
       "min           1.000000\n",
       "25%          27.000000\n",
       "50%          55.000000\n",
       "75%         100.000000\n",
       "max        3351.000000\n",
       "Name: sents_len, dtype: float64"
      ]
     },
     "execution_count": 23,
     "metadata": {},
     "output_type": "execute_result"
    }
   ],
   "source": [
    "# Work1\n",
    "train_df['sents_len'] = train_df['text'].apply(lambda x: len(re.split(' 3750 | 900 | 648 ', x)))\n",
    "train_df['sents_len'].describe()"
   ]
  },
  {
   "cell_type": "code",
   "execution_count": null,
   "id": "ef4075dd",
   "metadata": {},
   "outputs": [],
   "source": [
    "# Work2\n",
    "train_df['textRe'] = train_df['text'].apply(lambda x: x.replace(' 3750',\"\").replace(' 900',\"\").replace(' 648',\"\"))\n",
    "\n",
    "# 同一类的拼接到一起\n",
    "for i in range(0, 14):\n",
    "    df = train_df[train_df['label'] == i]['text']\n",
    "    word_count = Counter(\" \".join(df.values.tolist()).split())\n",
    "    print(i, word_count.most_common(1)[0])  # 新闻类，次数最多的字符及次数"
   ]
  }
 ],
 "metadata": {
  "kernelspec": {
   "display_name": "Python 3",
   "language": "python",
   "name": "python3"
  },
  "language_info": {
   "codemirror_mode": {
    "name": "ipython",
    "version": 3
   },
   "file_extension": ".py",
   "mimetype": "text/x-python",
   "name": "python",
   "nbconvert_exporter": "python",
   "pygments_lexer": "ipython3",
   "version": "3.8.8"
  }
 },
 "nbformat": 4,
 "nbformat_minor": 5
}
