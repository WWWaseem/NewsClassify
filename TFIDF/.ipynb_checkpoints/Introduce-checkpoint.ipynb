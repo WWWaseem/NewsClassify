{
 "cells": [
  {
   "cell_type": "code",
   "execution_count": 1,
   "id": "14f83a6a",
   "metadata": {},
   "outputs": [],
   "source": [
    "import pandas as pd\n",
    "from sklearn.feature_extraction.text import TfidfVectorizer\n",
    "from sklearn.linear_model import RidgeClassifier\n",
    "from sklearn.metrics import f1_score"
   ]
  },
  {
   "cell_type": "code",
   "execution_count": null,
   "id": "dd95db77",
   "metadata": {},
   "outputs": [],
   "source": [
    "# , nrows=15000\n",
    "# train_df = pd.read_csv('../data/train_set.csv', sep='\\t')\n",
    "# tfidf = TfidfVectorizer(ngram_range=(1, 3), max_features=10000)\n",
    "# train_test = tfidf.fit_transform(train_df['text'])\n",
    "\n",
    "# clf = RidgeClassifier()\n",
    "# clf.fit(train_test[:10000], train_df['label'].values[:10000])\n",
    "\n",
    "# val_pred = clf.predict(train_test[10000:])\n",
    "# print(f1_score(train_df['label'].values[10000:], val_pred, average='macro'))"
   ]
  },
  {
   "cell_type": "code",
   "execution_count": 6,
   "id": "234b4e48",
   "metadata": {},
   "outputs": [],
   "source": [
    "train_df = pd.read_csv('../data/train_set.csv', sep='\\t',nrows=10)"
   ]
  },
  {
   "cell_type": "code",
   "execution_count": 7,
   "id": "c2a25381",
   "metadata": {},
   "outputs": [
    {
     "name": "stdout",
     "output_type": "stream",
     "text": [
      "   label                                               text\n",
      "0      2  2967 6758 339 2021 1854 3731 4109 3792 4149 15...\n",
      "1     11  4464 486 6352 5619 2465 4802 1452 3137 5778 54...\n",
      "2      3  7346 4068 5074 3747 5681 6093 1777 2226 7354 6...\n",
      "3      2  7159 948 4866 2109 5520 2490 211 3956 5520 549...\n",
      "4      3  3646 3055 3055 2490 4659 6065 3370 5814 2465 5...\n",
      "5      9  3819 4525 1129 6725 6485 2109 3800 5264 1006 4...\n",
      "6      3  307 4780 6811 1580 7539 5886 5486 3433 6644 58...\n",
      "7     10  26 4270 1866 5977 3523 3764 4464 3659 4853 517...\n",
      "8     12  2708 2218 5915 4559 886 1241 4819 314 4261 166...\n",
      "9      3  3654 531 1348 29 4553 6722 1474 5099 7541 307 ...\n"
     ]
    }
   ],
   "source": [
    "print(train_df)"
   ]
  },
  {
   "cell_type": "code",
   "execution_count": null,
   "id": "f05c4944",
   "metadata": {},
   "outputs": [],
   "source": []
  }
 ],
 "metadata": {
  "kernelspec": {
   "display_name": "Python 3",
   "language": "python",
   "name": "python3"
  },
  "language_info": {
   "codemirror_mode": {
    "name": "ipython",
    "version": 3
   },
   "file_extension": ".py",
   "mimetype": "text/x-python",
   "name": "python",
   "nbconvert_exporter": "python",
   "pygments_lexer": "ipython3",
   "version": "3.8.8"
  }
 },
 "nbformat": 4,
 "nbformat_minor": 5
}
