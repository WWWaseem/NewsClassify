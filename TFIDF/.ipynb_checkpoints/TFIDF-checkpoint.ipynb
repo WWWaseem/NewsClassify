{
 "cells": [
  {
   "cell_type": "code",
   "execution_count": null,
   "id": "9a61d81f",
   "metadata": {},
   "outputs": [],
   "source": [
    "import pandas as pd\n",
    "\n",
    "from sklearn.feature_extraction.text import TfidfVectorizer\n",
    "from sklearn.linear_model import RidgeClassifier\n",
    "from sklearn.metrics import f1_score\n",
    "\n",
    "train_df = pd.read_csv('../data/train_set.csv', sep='\\t')"
   ]
  },
  {
   "cell_type": "code",
   "execution_count": null,
   "id": "5257e9f3",
   "metadata": {},
   "outputs": [],
   "source": [
    "# tfidf_6500 = TfidfVectorizer(ngram_range=(1, 3), max_features=6500)\n",
    "tfidf_8000 = TfidfVectorizer(ngram_range=(1, 3), max_features=8000)\n",
    "# tfidf_9500 = TfidfVectorizer(ngram_range=(1, 3), max_features=9500)"
   ]
  },
  {
   "cell_type": "code",
   "execution_count": null,
   "id": "8f3dd66a",
   "metadata": {},
   "outputs": [],
   "source": [
    "# train_test = tfidf_6500.fit_transform(train_df['text'])\n",
    "train_test = tfidf_8000.fit_transform(train_df['text'])\n",
    "# train_test = tfidf_9500.fit_transform(train_df['text'])"
   ]
  },
  {
   "cell_type": "code",
   "execution_count": null,
   "id": "239fb29b",
   "metadata": {},
   "outputs": [],
   "source": [
    "clf = RidgeClassifier()\n",
    "clf.fit(train_test, train_df['label'].values)\n",
    "# clf = RidgeClassifier()\n",
    "# clf.fit(train_test[:10000], train_df['label'].values[:10000])\n",
    "# clf = RidgeClassifier()\n",
    "# clf.fit(train_test[:10000], train_df['label'].values[:10000])"
   ]
  },
  {
   "cell_type": "code",
   "execution_count": null,
   "id": "5b2a7cb2",
   "metadata": {},
   "outputs": [],
   "source": [
    "clf = RidgeClassifier()\n",
    "clf.fit(train_test, train_df['label'].values)"
   ]
  },
  {
   "cell_type": "code",
   "execution_count": null,
   "id": "ab67f1e4",
   "metadata": {},
   "outputs": [],
   "source": [
    "# test_df = pd.read_csv('../data/test_a.csv', sep='\\t')\n",
    "# test = tfidf_6500.fit_transform(test_df['text'])\n",
    "# val_pred = clf.predict(test)\n",
    "# dataframe = pd.DataFrame({'label':val_pred}) \n",
    "# dataframe.to_csv(\"submit.csv\",index=False,sep='\\n')   \n",
    "# print(f1_score(train_df['label'].values[10000:], val_pred, average='macro'))"
   ]
  },
  {
   "cell_type": "code",
   "execution_count": null,
   "id": "e1e6e326",
   "metadata": {},
   "outputs": [],
   "source": [
    "val_pred = clf.predict(train_test[10000:])\n",
    "print(f1_score(train_df['label'].values[10000:], val_pred, average='macro'))"
   ]
  },
  {
   "cell_type": "code",
   "execution_count": null,
   "id": "a0669d2f",
   "metadata": {
    "scrolled": true
   },
   "outputs": [],
   "source": [
    "# ans = pd.read_csv('ans.csv', sep='\\n')\n",
    "# sub = pd.read_csv('submit.csv',sep='\\n')\n",
    "# print(ans)\n",
    "# print(sub)"
   ]
  },
  {
   "cell_type": "code",
   "execution_count": null,
   "id": "649206ee",
   "metadata": {},
   "outputs": [],
   "source": [
    "# count = 0\n",
    "# # print(len(ans['label']))\n",
    "# for i in range(len(ans['label'])):\n",
    "#     if ans['label'][i] == sub['label'][i]:\n",
    "#                count += 1\n",
    "# print(count)"
   ]
  }
 ],
 "metadata": {
  "kernelspec": {
   "display_name": "Python 3",
   "language": "python",
   "name": "python3"
  },
  "language_info": {
   "codemirror_mode": {
    "name": "ipython",
    "version": 3
   },
   "file_extension": ".py",
   "mimetype": "text/x-python",
   "name": "python",
   "nbconvert_exporter": "python",
   "pygments_lexer": "ipython3",
   "version": "3.8.8"
  }
 },
 "nbformat": 4,
 "nbformat_minor": 5
}
