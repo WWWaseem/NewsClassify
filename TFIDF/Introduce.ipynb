{
 "cells": [
  {
   "cell_type": "code",
   "execution_count": 15,
   "id": "14f83a6a",
   "metadata": {},
   "outputs": [
    {
     "name": "stdout",
     "output_type": "stream",
     "text": [
      "0.8721598830546126\n"
     ]
    }
   ],
   "source": [
    "import pandas as pd\n",
    "\n",
    "from sklearn.feature_extraction.text import TfidfVectorizer\n",
    "from sklearn.linear_model import RidgeClassifier\n",
    "from sklearn.metrics import f1_score\n",
    "\n",
    "train_df = pd.read_csv('../data/train_set.csv', sep='\\t', nrows=15000)\n",
    "\n",
    "tfidf = TfidfVectorizer(ngram_range=(1, 3), max_features=8000)\n",
    "train_test = tfidf.fit_transform(train_df['text'])\n",
    "\n",
    "clf = RidgeClassifier()\n",
    "clf.fit(train_test[:10000], train_df['label'].values[:10000])\n",
    "\n",
    "val_pred = clf.predict(train_test[10000:])\n",
    "print(f1_score(train_df['label'].values[10000:], val_pred, average='macro'))"
   ]
  },
  {
   "cell_type": "code",
   "execution_count": null,
   "id": "601a4895",
   "metadata": {},
   "outputs": [],
   "source": [
    "train_df = pd.read_csv('../data/train_set.csv', sep='\\t', nrows=15000)\n",
    "# 读取文件 \n",
    "# sep : 分隔符\n",
    "# nrows : 读取行数"
   ]
  },
  {
   "cell_type": "code",
   "execution_count": 40,
   "id": "701044f6",
   "metadata": {},
   "outputs": [],
   "source": [
    "tfidf = TfidfVectorizer(ngram_range=(1, 3), max_features=8000)\n",
    "train_test = tfidf.fit_transform(train_df['text'])\n",
    "# ngram_range : NG 范围\n",
    "# max_features : 特征值取值\n",
    "# fit_transdorm : ?"
   ]
  },
  {
   "cell_type": "code",
   "execution_count": null,
   "id": "fdc1aed8",
   "metadata": {},
   "outputs": [],
   "source": [
    "clf = RidgeClassifier()\n",
    "clf.fit(train_test[:10000], train_df['label'].values[:10000])\n",
    "# clf : 岭分类器\n",
    "# fit : ?"
   ]
  },
  {
   "cell_type": "code",
   "execution_count": 34,
   "id": "6cf21e21",
   "metadata": {},
   "outputs": [
    {
     "name": "stdout",
     "output_type": "stream",
     "text": [
      "[4 1 0 ... 0 0 8]\n",
      "[4 1 0 ... 3 1 1]\n"
     ]
    }
   ],
   "source": [
    "val_pred = clf.predict(train_test[10000:])\n",
    "dataframe = pd.DataFrame({'label':val_pred}) \n",
    "dataframe.to_csv(\"submit.csv\",index=False,sep='\\n')   \n",
    "print(f1_score(train_df['label'].values[10000:], val_pred, average='macro'))\n",
    "\n",
    "# val_pred : 预测数据\n",
    "# index : 是否显示行数\n",
    "# sep : 分隔符\n",
    "# f1_score : 自动计算函数\n",
    "# train_df['label'].values[10000:] : 已知数据\n",
    "# average='macro' : ?"
   ]
  },
  {
   "cell_type": "code",
   "execution_count": 16,
   "id": "fa1d4e2d",
   "metadata": {
    "scrolled": true
   },
   "outputs": [
    {
     "name": "stdout",
     "output_type": "stream",
     "text": [
      "  (0, 2865)\t0.021535770236833403\n",
      "  (0, 2806)\t0.02001603028943581\n",
      "  (0, 2194)\t0.021622651051018023\n",
      "  (0, 891)\t0.01846546448697959\n",
      "  (0, 1245)\t0.02078182138804139\n",
      "  (0, 2036)\t0.02269602508629548\n",
      "  (0, 2996)\t0.022270021736505666\n",
      "  (0, 2926)\t0.044205799055277786\n",
      "  (0, 1181)\t0.05123706315377213\n",
      "  (0, 13)\t0.021003192421284667\n",
      "  (0, 2248)\t0.01634323349116053\n",
      "  (0, 2887)\t0.04389320152497184\n",
      "  (0, 1256)\t0.04045607783251157\n",
      "  (0, 2916)\t0.021304697566793814\n",
      "  (0, 1179)\t0.021782375966566722\n",
      "  (0, 185)\t0.021710846299450484\n",
      "  (0, 1167)\t0.03607368250654688\n",
      "  (0, 1162)\t0.03198601850910597\n",
      "  (0, 2500)\t0.018595932005236255\n",
      "  (0, 1762)\t0.016525348259182292\n",
      "  (0, 1777)\t0.01909591781740683\n",
      "  (0, 2968)\t0.02156458687845952\n",
      "  (0, 2209)\t0.023163226258822382\n",
      "  (0, 2816)\t0.017643480190719037\n",
      "  (0, 2116)\t0.025496600458595003\n",
      "  :\t:\n",
      "  (14999, 2617)\t0.013492404281828569\n",
      "  (14999, 1829)\t0.022162711108313946\n",
      "  (14999, 1923)\t0.00832099462352761\n",
      "  (14999, 149)\t0.008464370264512024\n",
      "  (14999, 1984)\t0.014552429345606495\n",
      "  (14999, 997)\t0.015388248891434529\n",
      "  (14999, 161)\t0.010851129203228903\n",
      "  (14999, 2304)\t0.006464674362803809\n",
      "  (14999, 1915)\t0.014068604240595604\n",
      "  (14999, 2420)\t0.009671061283862976\n",
      "  (14999, 268)\t0.034221253117003636\n",
      "  (14999, 570)\t0.013804115293201306\n",
      "  (14999, 939)\t0.016361672919642693\n",
      "  (14999, 489)\t0.06593922257183449\n",
      "  (14999, 2432)\t0.06562602700152115\n",
      "  (14999, 2910)\t0.052193629439259405\n",
      "  (14999, 1751)\t0.055606463113857967\n",
      "  (14999, 1153)\t0.040524742612153816\n",
      "  (14999, 1092)\t0.01384354046369767\n",
      "  (14999, 2508)\t0.030601029094825278\n",
      "  (14999, 1081)\t0.022991803928113196\n",
      "  (14999, 445)\t0.007065543201615685\n",
      "  (14999, 1722)\t0.006717636670789374\n",
      "  (14999, 600)\t0.16820575286445277\n",
      "  (14999, 1339)\t0.04181331807501589\n"
     ]
    }
   ],
   "source": [
    "print(train_test)"
   ]
  }
 ],
 "metadata": {
  "kernelspec": {
   "display_name": "Python 3",
   "language": "python",
   "name": "python3"
  },
  "language_info": {
   "codemirror_mode": {
    "name": "ipython",
    "version": 3
   },
   "file_extension": ".py",
   "mimetype": "text/x-python",
   "name": "python",
   "nbconvert_exporter": "python",
   "pygments_lexer": "ipython3",
   "version": "3.8.8"
  }
 },
 "nbformat": 4,
 "nbformat_minor": 5
}
